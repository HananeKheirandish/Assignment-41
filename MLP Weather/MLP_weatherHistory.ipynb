{
  "cells": [
    {
      "cell_type": "code",
      "execution_count": null,
      "metadata": {
        "id": "2XwkWVky2ENR"
      },
      "outputs": [],
      "source": [
        "!pip install wandb"
      ]
    },
    {
      "cell_type": "code",
      "execution_count": 10,
      "metadata": {
        "id": "qWRLDLJ62yw1"
      },
      "outputs": [],
      "source": [
        "import tensorflow as tf\n",
        "from tensorflow.keras.layers import Dense\n",
        "import numpy as np\n",
        "import pandas as pd\n",
        "import matplotlib.pyplot as plt\n",
        "from sklearn.model_selection import train_test_split\n",
        "import wandb\n",
        "from wandb.keras import WandbCallback\n",
        "from google.colab import files\n",
        "import io"
      ]
    },
    {
      "cell_type": "code",
      "execution_count": 11,
      "metadata": {
        "colab": {
          "base_uri": "https://localhost:8080/",
          "height": 196
        },
        "id": "RAItBQMPAmsO",
        "outputId": "caf1d8c5-81ca-4c13-898a-22b3688ed82f"
      },
      "outputs": [
        {
          "output_type": "display_data",
          "data": {
            "text/plain": [
              "<IPython.core.display.HTML object>"
            ],
            "text/html": [
              "Finishing last run (ID:ghncsj2w) before initializing another..."
            ]
          },
          "metadata": {}
        },
        {
          "output_type": "display_data",
          "data": {
            "text/plain": [
              "<IPython.core.display.HTML object>"
            ],
            "text/html": [
              "Waiting for W&B process to finish... <strong style=\"color:green\">(success).</strong>"
            ]
          },
          "metadata": {}
        },
        {
          "output_type": "display_data",
          "data": {
            "text/plain": [
              "<IPython.core.display.HTML object>"
            ],
            "text/html": [
              "Synced <strong style=\"color:#cdcd00\">sunny-armadillo-10</strong>: <a href=\"https://wandb.ai/hanane_kheirandish/Weather%20History/runs/ghncsj2w\" target=\"_blank\">https://wandb.ai/hanane_kheirandish/Weather%20History/runs/ghncsj2w</a><br/>Synced 4 W&B file(s), 0 media file(s), 0 artifact file(s) and 0 other file(s)"
            ]
          },
          "metadata": {}
        },
        {
          "output_type": "display_data",
          "data": {
            "text/plain": [
              "<IPython.core.display.HTML object>"
            ],
            "text/html": [
              "Find logs at: <code>./wandb/run-20221231_203644-ghncsj2w/logs</code>"
            ]
          },
          "metadata": {}
        },
        {
          "output_type": "display_data",
          "data": {
            "text/plain": [
              "<IPython.core.display.HTML object>"
            ],
            "text/html": [
              "Successfully finished last run (ID:ghncsj2w). Initializing new run:<br/>"
            ]
          },
          "metadata": {}
        },
        {
          "output_type": "display_data",
          "data": {
            "text/plain": [
              "<IPython.core.display.HTML object>"
            ],
            "text/html": [
              "Tracking run with wandb version 0.13.7"
            ]
          },
          "metadata": {}
        },
        {
          "output_type": "display_data",
          "data": {
            "text/plain": [
              "<IPython.core.display.HTML object>"
            ],
            "text/html": [
              "Run data is saved locally in <code>/content/wandb/run-20221231_204325-28haq36k</code>"
            ]
          },
          "metadata": {}
        },
        {
          "output_type": "display_data",
          "data": {
            "text/plain": [
              "<IPython.core.display.HTML object>"
            ],
            "text/html": [
              "Syncing run <strong><a href=\"https://wandb.ai/hanane_kheirandish/Weather%20History/runs/28haq36k\" target=\"_blank\">rural-wind-11</a></strong> to <a href=\"https://wandb.ai/hanane_kheirandish/Weather%20History\" target=\"_blank\">Weights & Biases</a> (<a href=\"https://wandb.me/run\" target=\"_blank\">docs</a>)<br/>"
            ]
          },
          "metadata": {}
        },
        {
          "output_type": "execute_result",
          "data": {
            "text/html": [
              "<button onClick=\"this.nextSibling.style.display='block';this.style.display='none';\">Display W&B run</button><iframe src=\"https://wandb.ai/hanane_kheirandish/Weather%20History/runs/28haq36k?jupyter=true\" style=\"border:none;width:100%;height:420px;display:none;\"></iframe>"
            ],
            "text/plain": [
              "<wandb.sdk.wandb_run.Run at 0x7fe56e907a30>"
            ]
          },
          "metadata": {},
          "execution_count": 11
        }
      ],
      "source": [
        "wandb.init(project='Weather History')"
      ]
    },
    {
      "cell_type": "code",
      "execution_count": 59,
      "metadata": {
        "id": "d5MIoAV0ENPm"
      },
      "outputs": [],
      "source": [
        "config = wandb.config\n",
        "config.learning_rate = 0.001"
      ]
    },
    {
      "cell_type": "markdown",
      "source": [
        "### Data"
      ],
      "metadata": {
        "id": "5BtdzcN82wcj"
      }
    },
    {
      "cell_type": "code",
      "source": [
        "uploaded = files.upload()"
      ],
      "metadata": {
        "colab": {
          "base_uri": "https://localhost:8080/",
          "height": 74
        },
        "id": "WiM3sODQ7ei4",
        "outputId": "abb64738-6f53-4508-f337-661e6213e9a1"
      },
      "execution_count": 13,
      "outputs": [
        {
          "output_type": "display_data",
          "data": {
            "text/plain": [
              "<IPython.core.display.HTML object>"
            ],
            "text/html": [
              "\n",
              "     <input type=\"file\" id=\"files-26c26ef5-59b8-4404-91dd-76674c15abe3\" name=\"files[]\" multiple disabled\n",
              "        style=\"border:none\" />\n",
              "     <output id=\"result-26c26ef5-59b8-4404-91dd-76674c15abe3\">\n",
              "      Upload widget is only available when the cell has been executed in the\n",
              "      current browser session. Please rerun this cell to enable.\n",
              "      </output>\n",
              "      <script>// Copyright 2017 Google LLC\n",
              "//\n",
              "// Licensed under the Apache License, Version 2.0 (the \"License\");\n",
              "// you may not use this file except in compliance with the License.\n",
              "// You may obtain a copy of the License at\n",
              "//\n",
              "//      http://www.apache.org/licenses/LICENSE-2.0\n",
              "//\n",
              "// Unless required by applicable law or agreed to in writing, software\n",
              "// distributed under the License is distributed on an \"AS IS\" BASIS,\n",
              "// WITHOUT WARRANTIES OR CONDITIONS OF ANY KIND, either express or implied.\n",
              "// See the License for the specific language governing permissions and\n",
              "// limitations under the License.\n",
              "\n",
              "/**\n",
              " * @fileoverview Helpers for google.colab Python module.\n",
              " */\n",
              "(function(scope) {\n",
              "function span(text, styleAttributes = {}) {\n",
              "  const element = document.createElement('span');\n",
              "  element.textContent = text;\n",
              "  for (const key of Object.keys(styleAttributes)) {\n",
              "    element.style[key] = styleAttributes[key];\n",
              "  }\n",
              "  return element;\n",
              "}\n",
              "\n",
              "// Max number of bytes which will be uploaded at a time.\n",
              "const MAX_PAYLOAD_SIZE = 100 * 1024;\n",
              "\n",
              "function _uploadFiles(inputId, outputId) {\n",
              "  const steps = uploadFilesStep(inputId, outputId);\n",
              "  const outputElement = document.getElementById(outputId);\n",
              "  // Cache steps on the outputElement to make it available for the next call\n",
              "  // to uploadFilesContinue from Python.\n",
              "  outputElement.steps = steps;\n",
              "\n",
              "  return _uploadFilesContinue(outputId);\n",
              "}\n",
              "\n",
              "// This is roughly an async generator (not supported in the browser yet),\n",
              "// where there are multiple asynchronous steps and the Python side is going\n",
              "// to poll for completion of each step.\n",
              "// This uses a Promise to block the python side on completion of each step,\n",
              "// then passes the result of the previous step as the input to the next step.\n",
              "function _uploadFilesContinue(outputId) {\n",
              "  const outputElement = document.getElementById(outputId);\n",
              "  const steps = outputElement.steps;\n",
              "\n",
              "  const next = steps.next(outputElement.lastPromiseValue);\n",
              "  return Promise.resolve(next.value.promise).then((value) => {\n",
              "    // Cache the last promise value to make it available to the next\n",
              "    // step of the generator.\n",
              "    outputElement.lastPromiseValue = value;\n",
              "    return next.value.response;\n",
              "  });\n",
              "}\n",
              "\n",
              "/**\n",
              " * Generator function which is called between each async step of the upload\n",
              " * process.\n",
              " * @param {string} inputId Element ID of the input file picker element.\n",
              " * @param {string} outputId Element ID of the output display.\n",
              " * @return {!Iterable<!Object>} Iterable of next steps.\n",
              " */\n",
              "function* uploadFilesStep(inputId, outputId) {\n",
              "  const inputElement = document.getElementById(inputId);\n",
              "  inputElement.disabled = false;\n",
              "\n",
              "  const outputElement = document.getElementById(outputId);\n",
              "  outputElement.innerHTML = '';\n",
              "\n",
              "  const pickedPromise = new Promise((resolve) => {\n",
              "    inputElement.addEventListener('change', (e) => {\n",
              "      resolve(e.target.files);\n",
              "    });\n",
              "  });\n",
              "\n",
              "  const cancel = document.createElement('button');\n",
              "  inputElement.parentElement.appendChild(cancel);\n",
              "  cancel.textContent = 'Cancel upload';\n",
              "  const cancelPromise = new Promise((resolve) => {\n",
              "    cancel.onclick = () => {\n",
              "      resolve(null);\n",
              "    };\n",
              "  });\n",
              "\n",
              "  // Wait for the user to pick the files.\n",
              "  const files = yield {\n",
              "    promise: Promise.race([pickedPromise, cancelPromise]),\n",
              "    response: {\n",
              "      action: 'starting',\n",
              "    }\n",
              "  };\n",
              "\n",
              "  cancel.remove();\n",
              "\n",
              "  // Disable the input element since further picks are not allowed.\n",
              "  inputElement.disabled = true;\n",
              "\n",
              "  if (!files) {\n",
              "    return {\n",
              "      response: {\n",
              "        action: 'complete',\n",
              "      }\n",
              "    };\n",
              "  }\n",
              "\n",
              "  for (const file of files) {\n",
              "    const li = document.createElement('li');\n",
              "    li.append(span(file.name, {fontWeight: 'bold'}));\n",
              "    li.append(span(\n",
              "        `(${file.type || 'n/a'}) - ${file.size} bytes, ` +\n",
              "        `last modified: ${\n",
              "            file.lastModifiedDate ? file.lastModifiedDate.toLocaleDateString() :\n",
              "                                    'n/a'} - `));\n",
              "    const percent = span('0% done');\n",
              "    li.appendChild(percent);\n",
              "\n",
              "    outputElement.appendChild(li);\n",
              "\n",
              "    const fileDataPromise = new Promise((resolve) => {\n",
              "      const reader = new FileReader();\n",
              "      reader.onload = (e) => {\n",
              "        resolve(e.target.result);\n",
              "      };\n",
              "      reader.readAsArrayBuffer(file);\n",
              "    });\n",
              "    // Wait for the data to be ready.\n",
              "    let fileData = yield {\n",
              "      promise: fileDataPromise,\n",
              "      response: {\n",
              "        action: 'continue',\n",
              "      }\n",
              "    };\n",
              "\n",
              "    // Use a chunked sending to avoid message size limits. See b/62115660.\n",
              "    let position = 0;\n",
              "    do {\n",
              "      const length = Math.min(fileData.byteLength - position, MAX_PAYLOAD_SIZE);\n",
              "      const chunk = new Uint8Array(fileData, position, length);\n",
              "      position += length;\n",
              "\n",
              "      const base64 = btoa(String.fromCharCode.apply(null, chunk));\n",
              "      yield {\n",
              "        response: {\n",
              "          action: 'append',\n",
              "          file: file.name,\n",
              "          data: base64,\n",
              "        },\n",
              "      };\n",
              "\n",
              "      let percentDone = fileData.byteLength === 0 ?\n",
              "          100 :\n",
              "          Math.round((position / fileData.byteLength) * 100);\n",
              "      percent.textContent = `${percentDone}% done`;\n",
              "\n",
              "    } while (position < fileData.byteLength);\n",
              "  }\n",
              "\n",
              "  // All done.\n",
              "  yield {\n",
              "    response: {\n",
              "      action: 'complete',\n",
              "    }\n",
              "  };\n",
              "}\n",
              "\n",
              "scope.google = scope.google || {};\n",
              "scope.google.colab = scope.google.colab || {};\n",
              "scope.google.colab._files = {\n",
              "  _uploadFiles,\n",
              "  _uploadFilesContinue,\n",
              "};\n",
              "})(self);\n",
              "</script> "
            ]
          },
          "metadata": {}
        },
        {
          "output_type": "stream",
          "name": "stdout",
          "text": [
            "Saving weatherHistory.csv to weatherHistory.csv\n"
          ]
        }
      ]
    },
    {
      "cell_type": "code",
      "source": [
        "data = pd.read_csv(io.BytesIO(uploaded['weatherHistory.csv']))\n",
        "data.head()"
      ],
      "metadata": {
        "colab": {
          "base_uri": "https://localhost:8080/",
          "height": 459
        },
        "id": "2-Il8_ze6IZp",
        "outputId": "11d37437-2da6-4b63-fd86-521a6cc0e80d"
      },
      "execution_count": 16,
      "outputs": [
        {
          "output_type": "execute_result",
          "data": {
            "text/plain": [
              "                  Formatted Date        Summary Precip Type  Temperature (C)  \\\n",
              "0  2006-04-01 00:00:00.000 +0200  Partly Cloudy        rain         9.472222   \n",
              "1  2006-04-01 01:00:00.000 +0200  Partly Cloudy        rain         9.355556   \n",
              "2  2006-04-01 02:00:00.000 +0200  Mostly Cloudy        rain         9.377778   \n",
              "3  2006-04-01 03:00:00.000 +0200  Partly Cloudy        rain         8.288889   \n",
              "4  2006-04-01 04:00:00.000 +0200  Mostly Cloudy        rain         8.755556   \n",
              "\n",
              "   Apparent Temperature (C)  Humidity  Wind Speed (km/h)  \\\n",
              "0                  7.388889      0.89            14.1197   \n",
              "1                  7.227778      0.86            14.2646   \n",
              "2                  9.377778      0.89             3.9284   \n",
              "3                  5.944444      0.83            14.1036   \n",
              "4                  6.977778      0.83            11.0446   \n",
              "\n",
              "   Wind Bearing (degrees)  Visibility (km)  Loud Cover  Pressure (millibars)  \\\n",
              "0                   251.0          15.8263         0.0               1015.13   \n",
              "1                   259.0          15.8263         0.0               1015.63   \n",
              "2                   204.0          14.9569         0.0               1015.94   \n",
              "3                   269.0          15.8263         0.0               1016.41   \n",
              "4                   259.0          15.8263         0.0               1016.51   \n",
              "\n",
              "                       Daily Summary  \n",
              "0  Partly cloudy throughout the day.  \n",
              "1  Partly cloudy throughout the day.  \n",
              "2  Partly cloudy throughout the day.  \n",
              "3  Partly cloudy throughout the day.  \n",
              "4  Partly cloudy throughout the day.  "
            ],
            "text/html": [
              "\n",
              "  <div id=\"df-85af28ab-5f43-4e6a-ad85-2ad1681412e7\">\n",
              "    <div class=\"colab-df-container\">\n",
              "      <div>\n",
              "<style scoped>\n",
              "    .dataframe tbody tr th:only-of-type {\n",
              "        vertical-align: middle;\n",
              "    }\n",
              "\n",
              "    .dataframe tbody tr th {\n",
              "        vertical-align: top;\n",
              "    }\n",
              "\n",
              "    .dataframe thead th {\n",
              "        text-align: right;\n",
              "    }\n",
              "</style>\n",
              "<table border=\"1\" class=\"dataframe\">\n",
              "  <thead>\n",
              "    <tr style=\"text-align: right;\">\n",
              "      <th></th>\n",
              "      <th>Formatted Date</th>\n",
              "      <th>Summary</th>\n",
              "      <th>Precip Type</th>\n",
              "      <th>Temperature (C)</th>\n",
              "      <th>Apparent Temperature (C)</th>\n",
              "      <th>Humidity</th>\n",
              "      <th>Wind Speed (km/h)</th>\n",
              "      <th>Wind Bearing (degrees)</th>\n",
              "      <th>Visibility (km)</th>\n",
              "      <th>Loud Cover</th>\n",
              "      <th>Pressure (millibars)</th>\n",
              "      <th>Daily Summary</th>\n",
              "    </tr>\n",
              "  </thead>\n",
              "  <tbody>\n",
              "    <tr>\n",
              "      <th>0</th>\n",
              "      <td>2006-04-01 00:00:00.000 +0200</td>\n",
              "      <td>Partly Cloudy</td>\n",
              "      <td>rain</td>\n",
              "      <td>9.472222</td>\n",
              "      <td>7.388889</td>\n",
              "      <td>0.89</td>\n",
              "      <td>14.1197</td>\n",
              "      <td>251.0</td>\n",
              "      <td>15.8263</td>\n",
              "      <td>0.0</td>\n",
              "      <td>1015.13</td>\n",
              "      <td>Partly cloudy throughout the day.</td>\n",
              "    </tr>\n",
              "    <tr>\n",
              "      <th>1</th>\n",
              "      <td>2006-04-01 01:00:00.000 +0200</td>\n",
              "      <td>Partly Cloudy</td>\n",
              "      <td>rain</td>\n",
              "      <td>9.355556</td>\n",
              "      <td>7.227778</td>\n",
              "      <td>0.86</td>\n",
              "      <td>14.2646</td>\n",
              "      <td>259.0</td>\n",
              "      <td>15.8263</td>\n",
              "      <td>0.0</td>\n",
              "      <td>1015.63</td>\n",
              "      <td>Partly cloudy throughout the day.</td>\n",
              "    </tr>\n",
              "    <tr>\n",
              "      <th>2</th>\n",
              "      <td>2006-04-01 02:00:00.000 +0200</td>\n",
              "      <td>Mostly Cloudy</td>\n",
              "      <td>rain</td>\n",
              "      <td>9.377778</td>\n",
              "      <td>9.377778</td>\n",
              "      <td>0.89</td>\n",
              "      <td>3.9284</td>\n",
              "      <td>204.0</td>\n",
              "      <td>14.9569</td>\n",
              "      <td>0.0</td>\n",
              "      <td>1015.94</td>\n",
              "      <td>Partly cloudy throughout the day.</td>\n",
              "    </tr>\n",
              "    <tr>\n",
              "      <th>3</th>\n",
              "      <td>2006-04-01 03:00:00.000 +0200</td>\n",
              "      <td>Partly Cloudy</td>\n",
              "      <td>rain</td>\n",
              "      <td>8.288889</td>\n",
              "      <td>5.944444</td>\n",
              "      <td>0.83</td>\n",
              "      <td>14.1036</td>\n",
              "      <td>269.0</td>\n",
              "      <td>15.8263</td>\n",
              "      <td>0.0</td>\n",
              "      <td>1016.41</td>\n",
              "      <td>Partly cloudy throughout the day.</td>\n",
              "    </tr>\n",
              "    <tr>\n",
              "      <th>4</th>\n",
              "      <td>2006-04-01 04:00:00.000 +0200</td>\n",
              "      <td>Mostly Cloudy</td>\n",
              "      <td>rain</td>\n",
              "      <td>8.755556</td>\n",
              "      <td>6.977778</td>\n",
              "      <td>0.83</td>\n",
              "      <td>11.0446</td>\n",
              "      <td>259.0</td>\n",
              "      <td>15.8263</td>\n",
              "      <td>0.0</td>\n",
              "      <td>1016.51</td>\n",
              "      <td>Partly cloudy throughout the day.</td>\n",
              "    </tr>\n",
              "  </tbody>\n",
              "</table>\n",
              "</div>\n",
              "      <button class=\"colab-df-convert\" onclick=\"convertToInteractive('df-85af28ab-5f43-4e6a-ad85-2ad1681412e7')\"\n",
              "              title=\"Convert this dataframe to an interactive table.\"\n",
              "              style=\"display:none;\">\n",
              "        \n",
              "  <svg xmlns=\"http://www.w3.org/2000/svg\" height=\"24px\"viewBox=\"0 0 24 24\"\n",
              "       width=\"24px\">\n",
              "    <path d=\"M0 0h24v24H0V0z\" fill=\"none\"/>\n",
              "    <path d=\"M18.56 5.44l.94 2.06.94-2.06 2.06-.94-2.06-.94-.94-2.06-.94 2.06-2.06.94zm-11 1L8.5 8.5l.94-2.06 2.06-.94-2.06-.94L8.5 2.5l-.94 2.06-2.06.94zm10 10l.94 2.06.94-2.06 2.06-.94-2.06-.94-.94-2.06-.94 2.06-2.06.94z\"/><path d=\"M17.41 7.96l-1.37-1.37c-.4-.4-.92-.59-1.43-.59-.52 0-1.04.2-1.43.59L10.3 9.45l-7.72 7.72c-.78.78-.78 2.05 0 2.83L4 21.41c.39.39.9.59 1.41.59.51 0 1.02-.2 1.41-.59l7.78-7.78 2.81-2.81c.8-.78.8-2.07 0-2.86zM5.41 20L4 18.59l7.72-7.72 1.47 1.35L5.41 20z\"/>\n",
              "  </svg>\n",
              "      </button>\n",
              "      \n",
              "  <style>\n",
              "    .colab-df-container {\n",
              "      display:flex;\n",
              "      flex-wrap:wrap;\n",
              "      gap: 12px;\n",
              "    }\n",
              "\n",
              "    .colab-df-convert {\n",
              "      background-color: #E8F0FE;\n",
              "      border: none;\n",
              "      border-radius: 50%;\n",
              "      cursor: pointer;\n",
              "      display: none;\n",
              "      fill: #1967D2;\n",
              "      height: 32px;\n",
              "      padding: 0 0 0 0;\n",
              "      width: 32px;\n",
              "    }\n",
              "\n",
              "    .colab-df-convert:hover {\n",
              "      background-color: #E2EBFA;\n",
              "      box-shadow: 0px 1px 2px rgba(60, 64, 67, 0.3), 0px 1px 3px 1px rgba(60, 64, 67, 0.15);\n",
              "      fill: #174EA6;\n",
              "    }\n",
              "\n",
              "    [theme=dark] .colab-df-convert {\n",
              "      background-color: #3B4455;\n",
              "      fill: #D2E3FC;\n",
              "    }\n",
              "\n",
              "    [theme=dark] .colab-df-convert:hover {\n",
              "      background-color: #434B5C;\n",
              "      box-shadow: 0px 1px 3px 1px rgba(0, 0, 0, 0.15);\n",
              "      filter: drop-shadow(0px 1px 2px rgba(0, 0, 0, 0.3));\n",
              "      fill: #FFFFFF;\n",
              "    }\n",
              "  </style>\n",
              "\n",
              "      <script>\n",
              "        const buttonEl =\n",
              "          document.querySelector('#df-85af28ab-5f43-4e6a-ad85-2ad1681412e7 button.colab-df-convert');\n",
              "        buttonEl.style.display =\n",
              "          google.colab.kernel.accessAllowed ? 'block' : 'none';\n",
              "\n",
              "        async function convertToInteractive(key) {\n",
              "          const element = document.querySelector('#df-85af28ab-5f43-4e6a-ad85-2ad1681412e7');\n",
              "          const dataTable =\n",
              "            await google.colab.kernel.invokeFunction('convertToInteractive',\n",
              "                                                     [key], {});\n",
              "          if (!dataTable) return;\n",
              "\n",
              "          const docLinkHtml = 'Like what you see? Visit the ' +\n",
              "            '<a target=\"_blank\" href=https://colab.research.google.com/notebooks/data_table.ipynb>data table notebook</a>'\n",
              "            + ' to learn more about interactive tables.';\n",
              "          element.innerHTML = '';\n",
              "          dataTable['output_type'] = 'display_data';\n",
              "          await google.colab.output.renderOutput(dataTable, element);\n",
              "          const docLink = document.createElement('div');\n",
              "          docLink.innerHTML = docLinkHtml;\n",
              "          element.appendChild(docLink);\n",
              "        }\n",
              "      </script>\n",
              "    </div>\n",
              "  </div>\n",
              "  "
            ]
          },
          "metadata": {},
          "execution_count": 16
        }
      ]
    },
    {
      "cell_type": "code",
      "source": [
        "data['Formatted Date'] = pd.to_datetime(data['Formatted Date'], utc=True)\n",
        "\n",
        "data['Year'] = data['Formatted Date'].dt.year \n",
        "data['Day Of Year'] = data['Formatted Date'].dt.dayofyear\n",
        "data.head()"
      ],
      "metadata": {
        "colab": {
          "base_uri": "https://localhost:8080/",
          "height": 459
        },
        "id": "ETWXNNIW7xkw",
        "outputId": "ccdb0f31-e145-4364-9f5d-7a19206c371f"
      },
      "execution_count": 17,
      "outputs": [
        {
          "output_type": "execute_result",
          "data": {
            "text/plain": [
              "             Formatted Date        Summary Precip Type  Temperature (C)  \\\n",
              "0 2006-03-31 22:00:00+00:00  Partly Cloudy        rain         9.472222   \n",
              "1 2006-03-31 23:00:00+00:00  Partly Cloudy        rain         9.355556   \n",
              "2 2006-04-01 00:00:00+00:00  Mostly Cloudy        rain         9.377778   \n",
              "3 2006-04-01 01:00:00+00:00  Partly Cloudy        rain         8.288889   \n",
              "4 2006-04-01 02:00:00+00:00  Mostly Cloudy        rain         8.755556   \n",
              "\n",
              "   Apparent Temperature (C)  Humidity  Wind Speed (km/h)  \\\n",
              "0                  7.388889      0.89            14.1197   \n",
              "1                  7.227778      0.86            14.2646   \n",
              "2                  9.377778      0.89             3.9284   \n",
              "3                  5.944444      0.83            14.1036   \n",
              "4                  6.977778      0.83            11.0446   \n",
              "\n",
              "   Wind Bearing (degrees)  Visibility (km)  Loud Cover  Pressure (millibars)  \\\n",
              "0                   251.0          15.8263         0.0               1015.13   \n",
              "1                   259.0          15.8263         0.0               1015.63   \n",
              "2                   204.0          14.9569         0.0               1015.94   \n",
              "3                   269.0          15.8263         0.0               1016.41   \n",
              "4                   259.0          15.8263         0.0               1016.51   \n",
              "\n",
              "                       Daily Summary  Year  Day Of Year  \n",
              "0  Partly cloudy throughout the day.  2006           90  \n",
              "1  Partly cloudy throughout the day.  2006           90  \n",
              "2  Partly cloudy throughout the day.  2006           91  \n",
              "3  Partly cloudy throughout the day.  2006           91  \n",
              "4  Partly cloudy throughout the day.  2006           91  "
            ],
            "text/html": [
              "\n",
              "  <div id=\"df-3ce11c5f-0548-4016-8f20-4b69c5be0835\">\n",
              "    <div class=\"colab-df-container\">\n",
              "      <div>\n",
              "<style scoped>\n",
              "    .dataframe tbody tr th:only-of-type {\n",
              "        vertical-align: middle;\n",
              "    }\n",
              "\n",
              "    .dataframe tbody tr th {\n",
              "        vertical-align: top;\n",
              "    }\n",
              "\n",
              "    .dataframe thead th {\n",
              "        text-align: right;\n",
              "    }\n",
              "</style>\n",
              "<table border=\"1\" class=\"dataframe\">\n",
              "  <thead>\n",
              "    <tr style=\"text-align: right;\">\n",
              "      <th></th>\n",
              "      <th>Formatted Date</th>\n",
              "      <th>Summary</th>\n",
              "      <th>Precip Type</th>\n",
              "      <th>Temperature (C)</th>\n",
              "      <th>Apparent Temperature (C)</th>\n",
              "      <th>Humidity</th>\n",
              "      <th>Wind Speed (km/h)</th>\n",
              "      <th>Wind Bearing (degrees)</th>\n",
              "      <th>Visibility (km)</th>\n",
              "      <th>Loud Cover</th>\n",
              "      <th>Pressure (millibars)</th>\n",
              "      <th>Daily Summary</th>\n",
              "      <th>Year</th>\n",
              "      <th>Day Of Year</th>\n",
              "    </tr>\n",
              "  </thead>\n",
              "  <tbody>\n",
              "    <tr>\n",
              "      <th>0</th>\n",
              "      <td>2006-03-31 22:00:00+00:00</td>\n",
              "      <td>Partly Cloudy</td>\n",
              "      <td>rain</td>\n",
              "      <td>9.472222</td>\n",
              "      <td>7.388889</td>\n",
              "      <td>0.89</td>\n",
              "      <td>14.1197</td>\n",
              "      <td>251.0</td>\n",
              "      <td>15.8263</td>\n",
              "      <td>0.0</td>\n",
              "      <td>1015.13</td>\n",
              "      <td>Partly cloudy throughout the day.</td>\n",
              "      <td>2006</td>\n",
              "      <td>90</td>\n",
              "    </tr>\n",
              "    <tr>\n",
              "      <th>1</th>\n",
              "      <td>2006-03-31 23:00:00+00:00</td>\n",
              "      <td>Partly Cloudy</td>\n",
              "      <td>rain</td>\n",
              "      <td>9.355556</td>\n",
              "      <td>7.227778</td>\n",
              "      <td>0.86</td>\n",
              "      <td>14.2646</td>\n",
              "      <td>259.0</td>\n",
              "      <td>15.8263</td>\n",
              "      <td>0.0</td>\n",
              "      <td>1015.63</td>\n",
              "      <td>Partly cloudy throughout the day.</td>\n",
              "      <td>2006</td>\n",
              "      <td>90</td>\n",
              "    </tr>\n",
              "    <tr>\n",
              "      <th>2</th>\n",
              "      <td>2006-04-01 00:00:00+00:00</td>\n",
              "      <td>Mostly Cloudy</td>\n",
              "      <td>rain</td>\n",
              "      <td>9.377778</td>\n",
              "      <td>9.377778</td>\n",
              "      <td>0.89</td>\n",
              "      <td>3.9284</td>\n",
              "      <td>204.0</td>\n",
              "      <td>14.9569</td>\n",
              "      <td>0.0</td>\n",
              "      <td>1015.94</td>\n",
              "      <td>Partly cloudy throughout the day.</td>\n",
              "      <td>2006</td>\n",
              "      <td>91</td>\n",
              "    </tr>\n",
              "    <tr>\n",
              "      <th>3</th>\n",
              "      <td>2006-04-01 01:00:00+00:00</td>\n",
              "      <td>Partly Cloudy</td>\n",
              "      <td>rain</td>\n",
              "      <td>8.288889</td>\n",
              "      <td>5.944444</td>\n",
              "      <td>0.83</td>\n",
              "      <td>14.1036</td>\n",
              "      <td>269.0</td>\n",
              "      <td>15.8263</td>\n",
              "      <td>0.0</td>\n",
              "      <td>1016.41</td>\n",
              "      <td>Partly cloudy throughout the day.</td>\n",
              "      <td>2006</td>\n",
              "      <td>91</td>\n",
              "    </tr>\n",
              "    <tr>\n",
              "      <th>4</th>\n",
              "      <td>2006-04-01 02:00:00+00:00</td>\n",
              "      <td>Mostly Cloudy</td>\n",
              "      <td>rain</td>\n",
              "      <td>8.755556</td>\n",
              "      <td>6.977778</td>\n",
              "      <td>0.83</td>\n",
              "      <td>11.0446</td>\n",
              "      <td>259.0</td>\n",
              "      <td>15.8263</td>\n",
              "      <td>0.0</td>\n",
              "      <td>1016.51</td>\n",
              "      <td>Partly cloudy throughout the day.</td>\n",
              "      <td>2006</td>\n",
              "      <td>91</td>\n",
              "    </tr>\n",
              "  </tbody>\n",
              "</table>\n",
              "</div>\n",
              "      <button class=\"colab-df-convert\" onclick=\"convertToInteractive('df-3ce11c5f-0548-4016-8f20-4b69c5be0835')\"\n",
              "              title=\"Convert this dataframe to an interactive table.\"\n",
              "              style=\"display:none;\">\n",
              "        \n",
              "  <svg xmlns=\"http://www.w3.org/2000/svg\" height=\"24px\"viewBox=\"0 0 24 24\"\n",
              "       width=\"24px\">\n",
              "    <path d=\"M0 0h24v24H0V0z\" fill=\"none\"/>\n",
              "    <path d=\"M18.56 5.44l.94 2.06.94-2.06 2.06-.94-2.06-.94-.94-2.06-.94 2.06-2.06.94zm-11 1L8.5 8.5l.94-2.06 2.06-.94-2.06-.94L8.5 2.5l-.94 2.06-2.06.94zm10 10l.94 2.06.94-2.06 2.06-.94-2.06-.94-.94-2.06-.94 2.06-2.06.94z\"/><path d=\"M17.41 7.96l-1.37-1.37c-.4-.4-.92-.59-1.43-.59-.52 0-1.04.2-1.43.59L10.3 9.45l-7.72 7.72c-.78.78-.78 2.05 0 2.83L4 21.41c.39.39.9.59 1.41.59.51 0 1.02-.2 1.41-.59l7.78-7.78 2.81-2.81c.8-.78.8-2.07 0-2.86zM5.41 20L4 18.59l7.72-7.72 1.47 1.35L5.41 20z\"/>\n",
              "  </svg>\n",
              "      </button>\n",
              "      \n",
              "  <style>\n",
              "    .colab-df-container {\n",
              "      display:flex;\n",
              "      flex-wrap:wrap;\n",
              "      gap: 12px;\n",
              "    }\n",
              "\n",
              "    .colab-df-convert {\n",
              "      background-color: #E8F0FE;\n",
              "      border: none;\n",
              "      border-radius: 50%;\n",
              "      cursor: pointer;\n",
              "      display: none;\n",
              "      fill: #1967D2;\n",
              "      height: 32px;\n",
              "      padding: 0 0 0 0;\n",
              "      width: 32px;\n",
              "    }\n",
              "\n",
              "    .colab-df-convert:hover {\n",
              "      background-color: #E2EBFA;\n",
              "      box-shadow: 0px 1px 2px rgba(60, 64, 67, 0.3), 0px 1px 3px 1px rgba(60, 64, 67, 0.15);\n",
              "      fill: #174EA6;\n",
              "    }\n",
              "\n",
              "    [theme=dark] .colab-df-convert {\n",
              "      background-color: #3B4455;\n",
              "      fill: #D2E3FC;\n",
              "    }\n",
              "\n",
              "    [theme=dark] .colab-df-convert:hover {\n",
              "      background-color: #434B5C;\n",
              "      box-shadow: 0px 1px 3px 1px rgba(0, 0, 0, 0.15);\n",
              "      filter: drop-shadow(0px 1px 2px rgba(0, 0, 0, 0.3));\n",
              "      fill: #FFFFFF;\n",
              "    }\n",
              "  </style>\n",
              "\n",
              "      <script>\n",
              "        const buttonEl =\n",
              "          document.querySelector('#df-3ce11c5f-0548-4016-8f20-4b69c5be0835 button.colab-df-convert');\n",
              "        buttonEl.style.display =\n",
              "          google.colab.kernel.accessAllowed ? 'block' : 'none';\n",
              "\n",
              "        async function convertToInteractive(key) {\n",
              "          const element = document.querySelector('#df-3ce11c5f-0548-4016-8f20-4b69c5be0835');\n",
              "          const dataTable =\n",
              "            await google.colab.kernel.invokeFunction('convertToInteractive',\n",
              "                                                     [key], {});\n",
              "          if (!dataTable) return;\n",
              "\n",
              "          const docLinkHtml = 'Like what you see? Visit the ' +\n",
              "            '<a target=\"_blank\" href=https://colab.research.google.com/notebooks/data_table.ipynb>data table notebook</a>'\n",
              "            + ' to learn more about interactive tables.';\n",
              "          element.innerHTML = '';\n",
              "          dataTable['output_type'] = 'display_data';\n",
              "          await google.colab.output.renderOutput(dataTable, element);\n",
              "          const docLink = document.createElement('div');\n",
              "          docLink.innerHTML = docLinkHtml;\n",
              "          element.appendChild(docLink);\n",
              "        }\n",
              "      </script>\n",
              "    </div>\n",
              "  </div>\n",
              "  "
            ]
          },
          "metadata": {},
          "execution_count": 17
        }
      ]
    },
    {
      "cell_type": "code",
      "source": [
        "temp_of_day = data.groupby(['Year', 'Day Of Year'])['Temperature (C)'].mean().reset_index()\n",
        "temp_of_day"
      ],
      "metadata": {
        "colab": {
          "base_uri": "https://localhost:8080/",
          "height": 424
        },
        "id": "23rhr6HT73So",
        "outputId": "b2a86753-0ecd-4ee5-ff5e-15c74a93cc5e"
      },
      "execution_count": 18,
      "outputs": [
        {
          "output_type": "execute_result",
          "data": {
            "text/plain": [
              "      Year  Day Of Year  Temperature (C)\n",
              "0     2005          365         0.577778\n",
              "1     2006            1         4.075000\n",
              "2     2006            2         5.263194\n",
              "3     2006            3         2.340509\n",
              "4     2006            4         2.251852\n",
              "...    ...          ...              ...\n",
              "4014  2016          362         0.278009\n",
              "4015  2016          363         0.222222\n",
              "4016  2016          364         0.167824\n",
              "4017  2016          365         0.117593\n",
              "4018  2016          366         0.113527\n",
              "\n",
              "[4019 rows x 3 columns]"
            ],
            "text/html": [
              "\n",
              "  <div id=\"df-b492b8c7-fc5d-41d8-ad93-a82ef522a060\">\n",
              "    <div class=\"colab-df-container\">\n",
              "      <div>\n",
              "<style scoped>\n",
              "    .dataframe tbody tr th:only-of-type {\n",
              "        vertical-align: middle;\n",
              "    }\n",
              "\n",
              "    .dataframe tbody tr th {\n",
              "        vertical-align: top;\n",
              "    }\n",
              "\n",
              "    .dataframe thead th {\n",
              "        text-align: right;\n",
              "    }\n",
              "</style>\n",
              "<table border=\"1\" class=\"dataframe\">\n",
              "  <thead>\n",
              "    <tr style=\"text-align: right;\">\n",
              "      <th></th>\n",
              "      <th>Year</th>\n",
              "      <th>Day Of Year</th>\n",
              "      <th>Temperature (C)</th>\n",
              "    </tr>\n",
              "  </thead>\n",
              "  <tbody>\n",
              "    <tr>\n",
              "      <th>0</th>\n",
              "      <td>2005</td>\n",
              "      <td>365</td>\n",
              "      <td>0.577778</td>\n",
              "    </tr>\n",
              "    <tr>\n",
              "      <th>1</th>\n",
              "      <td>2006</td>\n",
              "      <td>1</td>\n",
              "      <td>4.075000</td>\n",
              "    </tr>\n",
              "    <tr>\n",
              "      <th>2</th>\n",
              "      <td>2006</td>\n",
              "      <td>2</td>\n",
              "      <td>5.263194</td>\n",
              "    </tr>\n",
              "    <tr>\n",
              "      <th>3</th>\n",
              "      <td>2006</td>\n",
              "      <td>3</td>\n",
              "      <td>2.340509</td>\n",
              "    </tr>\n",
              "    <tr>\n",
              "      <th>4</th>\n",
              "      <td>2006</td>\n",
              "      <td>4</td>\n",
              "      <td>2.251852</td>\n",
              "    </tr>\n",
              "    <tr>\n",
              "      <th>...</th>\n",
              "      <td>...</td>\n",
              "      <td>...</td>\n",
              "      <td>...</td>\n",
              "    </tr>\n",
              "    <tr>\n",
              "      <th>4014</th>\n",
              "      <td>2016</td>\n",
              "      <td>362</td>\n",
              "      <td>0.278009</td>\n",
              "    </tr>\n",
              "    <tr>\n",
              "      <th>4015</th>\n",
              "      <td>2016</td>\n",
              "      <td>363</td>\n",
              "      <td>0.222222</td>\n",
              "    </tr>\n",
              "    <tr>\n",
              "      <th>4016</th>\n",
              "      <td>2016</td>\n",
              "      <td>364</td>\n",
              "      <td>0.167824</td>\n",
              "    </tr>\n",
              "    <tr>\n",
              "      <th>4017</th>\n",
              "      <td>2016</td>\n",
              "      <td>365</td>\n",
              "      <td>0.117593</td>\n",
              "    </tr>\n",
              "    <tr>\n",
              "      <th>4018</th>\n",
              "      <td>2016</td>\n",
              "      <td>366</td>\n",
              "      <td>0.113527</td>\n",
              "    </tr>\n",
              "  </tbody>\n",
              "</table>\n",
              "<p>4019 rows × 3 columns</p>\n",
              "</div>\n",
              "      <button class=\"colab-df-convert\" onclick=\"convertToInteractive('df-b492b8c7-fc5d-41d8-ad93-a82ef522a060')\"\n",
              "              title=\"Convert this dataframe to an interactive table.\"\n",
              "              style=\"display:none;\">\n",
              "        \n",
              "  <svg xmlns=\"http://www.w3.org/2000/svg\" height=\"24px\"viewBox=\"0 0 24 24\"\n",
              "       width=\"24px\">\n",
              "    <path d=\"M0 0h24v24H0V0z\" fill=\"none\"/>\n",
              "    <path d=\"M18.56 5.44l.94 2.06.94-2.06 2.06-.94-2.06-.94-.94-2.06-.94 2.06-2.06.94zm-11 1L8.5 8.5l.94-2.06 2.06-.94-2.06-.94L8.5 2.5l-.94 2.06-2.06.94zm10 10l.94 2.06.94-2.06 2.06-.94-2.06-.94-.94-2.06-.94 2.06-2.06.94z\"/><path d=\"M17.41 7.96l-1.37-1.37c-.4-.4-.92-.59-1.43-.59-.52 0-1.04.2-1.43.59L10.3 9.45l-7.72 7.72c-.78.78-.78 2.05 0 2.83L4 21.41c.39.39.9.59 1.41.59.51 0 1.02-.2 1.41-.59l7.78-7.78 2.81-2.81c.8-.78.8-2.07 0-2.86zM5.41 20L4 18.59l7.72-7.72 1.47 1.35L5.41 20z\"/>\n",
              "  </svg>\n",
              "      </button>\n",
              "      \n",
              "  <style>\n",
              "    .colab-df-container {\n",
              "      display:flex;\n",
              "      flex-wrap:wrap;\n",
              "      gap: 12px;\n",
              "    }\n",
              "\n",
              "    .colab-df-convert {\n",
              "      background-color: #E8F0FE;\n",
              "      border: none;\n",
              "      border-radius: 50%;\n",
              "      cursor: pointer;\n",
              "      display: none;\n",
              "      fill: #1967D2;\n",
              "      height: 32px;\n",
              "      padding: 0 0 0 0;\n",
              "      width: 32px;\n",
              "    }\n",
              "\n",
              "    .colab-df-convert:hover {\n",
              "      background-color: #E2EBFA;\n",
              "      box-shadow: 0px 1px 2px rgba(60, 64, 67, 0.3), 0px 1px 3px 1px rgba(60, 64, 67, 0.15);\n",
              "      fill: #174EA6;\n",
              "    }\n",
              "\n",
              "    [theme=dark] .colab-df-convert {\n",
              "      background-color: #3B4455;\n",
              "      fill: #D2E3FC;\n",
              "    }\n",
              "\n",
              "    [theme=dark] .colab-df-convert:hover {\n",
              "      background-color: #434B5C;\n",
              "      box-shadow: 0px 1px 3px 1px rgba(0, 0, 0, 0.15);\n",
              "      filter: drop-shadow(0px 1px 2px rgba(0, 0, 0, 0.3));\n",
              "      fill: #FFFFFF;\n",
              "    }\n",
              "  </style>\n",
              "\n",
              "      <script>\n",
              "        const buttonEl =\n",
              "          document.querySelector('#df-b492b8c7-fc5d-41d8-ad93-a82ef522a060 button.colab-df-convert');\n",
              "        buttonEl.style.display =\n",
              "          google.colab.kernel.accessAllowed ? 'block' : 'none';\n",
              "\n",
              "        async function convertToInteractive(key) {\n",
              "          const element = document.querySelector('#df-b492b8c7-fc5d-41d8-ad93-a82ef522a060');\n",
              "          const dataTable =\n",
              "            await google.colab.kernel.invokeFunction('convertToInteractive',\n",
              "                                                     [key], {});\n",
              "          if (!dataTable) return;\n",
              "\n",
              "          const docLinkHtml = 'Like what you see? Visit the ' +\n",
              "            '<a target=\"_blank\" href=https://colab.research.google.com/notebooks/data_table.ipynb>data table notebook</a>'\n",
              "            + ' to learn more about interactive tables.';\n",
              "          element.innerHTML = '';\n",
              "          dataTable['output_type'] = 'display_data';\n",
              "          await google.colab.output.renderOutput(dataTable, element);\n",
              "          const docLink = document.createElement('div');\n",
              "          docLink.innerHTML = docLinkHtml;\n",
              "          element.appendChild(docLink);\n",
              "        }\n",
              "      </script>\n",
              "    </div>\n",
              "  </div>\n",
              "  "
            ]
          },
          "metadata": {},
          "execution_count": 18
        }
      ]
    },
    {
      "cell_type": "code",
      "source": [
        "X = temp_of_day['Day Of Year'].values\n",
        "Y = temp_of_day['Temperature (C)'].values\n",
        "X = X.reshape(-1, 1)\n",
        "Y = Y.reshape(-1, 1)"
      ],
      "metadata": {
        "id": "RDBB0pCk784D"
      },
      "execution_count": 19,
      "outputs": []
    },
    {
      "cell_type": "code",
      "source": [
        "plt.figure(figsize=(10, 6))\n",
        "plt.scatter(X, Y, marker= '.')\n",
        "plt.xlabel('Day Of Year')\n",
        "plt.ylabel('Temperature')\n",
        "plt.show()"
      ],
      "metadata": {
        "colab": {
          "base_uri": "https://localhost:8080/",
          "height": 388
        },
        "id": "tyNT0NWa8CRU",
        "outputId": "147582db-7be4-4e4b-e198-c5c1466b7872"
      },
      "execution_count": 20,
      "outputs": [
        {
          "output_type": "display_data",
          "data": {
            "text/plain": [
              "<Figure size 720x432 with 1 Axes>"
            ],
            "image/png": "[encoded data removed]"
          },
          "metadata": {
            "needs_background": "light"
          }
        }
      ]
    },
    {
      "cell_type": "code",
      "source": [
        "X_train, X_test, Y_train, Y_test = train_test_split(X, Y, shuffle=True)"
      ],
      "metadata": {
        "id": "pzYt0WoA8E2g"
      },
      "execution_count": 91,
      "outputs": []
    },
    {
      "cell_type": "markdown",
      "source": [
        "### Model"
      ],
      "metadata": {
        "id": "pbNNyqIy8SIB"
      }
    },
    {
      "cell_type": "code",
      "source": [
        "model = tf.keras.models.Sequential([\n",
        "    Dense(300, input_dim=1, activation='sigmoid'), # HL1\n",
        "    Dense(224, activation='sigmoid'), # HL2\n",
        "    Dense(1, activation='linear') # OL\n",
        "])"
      ],
      "metadata": {
        "id": "hS2tWCK-8Pjo"
      },
      "execution_count": 92,
      "outputs": []
    },
    {
      "cell_type": "code",
      "source": [
        "model.compile(optimizer=tf.keras.optimizers.Adam(learning_rate= config.learning_rate),\n",
        "             loss=tf.keras.losses.MeanSquaredError())"
      ],
      "metadata": {
        "id": "w3c9_P1u8ePK"
      },
      "execution_count": 93,
      "outputs": []
    },
    {
      "cell_type": "code",
      "source": [
        "model.summary()"
      ],
      "metadata": {
        "colab": {
          "base_uri": "https://localhost:8080/"
        },
        "id": "HElz8_Ni8h2O",
        "outputId": "fbf44cd4-e7de-4782-d48c-754341dd30e6"
      },
      "execution_count": 94,
      "outputs": [
        {
          "output_type": "stream",
          "name": "stdout",
          "text": [
            "Model: \"sequential_15\"\n",
            "_________________________________________________________________\n",
            " Layer (type)                Output Shape              Param #   \n",
            "=================================================================\n",
            " dense_55 (Dense)            (None, 300)               600       \n",
            "                                                                 \n",
            " dense_56 (Dense)            (None, 224)               67424     \n",
            "                                                                 \n",
            " dense_57 (Dense)            (None, 1)                 225       \n",
            "                                                                 \n",
            "=================================================================\n",
            "Total params: 68,249\n",
            "Trainable params: 68,249\n",
            "Non-trainable params: 0\n",
            "_________________________________________________________________\n"
          ]
        }
      ]
    },
    {
      "cell_type": "markdown",
      "source": [
        "### Train"
      ],
      "metadata": {
        "id": "sQjPQ2o8_AJ3"
      }
    },
    {
      "cell_type": "code",
      "source": [
        "model.fit(X_train, Y_train, epochs=120, callbacks=[WandbCallback()])"
      ],
      "metadata": {
        "colab": {
          "base_uri": "https://localhost:8080/"
        },
        "id": "K1N_5mZ9-8gP",
        "outputId": "c657cc0e-c32d-467e-9d61-0d47c1dd5398"
      },
      "execution_count": 95,
      "outputs": [
        {
          "output_type": "stream",
          "name": "stdout",
          "text": [
            "Epoch 1/120\n",
            "95/95 [==============================] - 1s 4ms/step - loss: 83.0866\n",
            "Epoch 2/120\n",
            "95/95 [==============================] - 0s 4ms/step - loss: 52.1275\n",
            "Epoch 3/120\n",
            "95/95 [==============================] - 0s 4ms/step - loss: 50.5013\n",
            "Epoch 4/120\n",
            "95/95 [==============================] - 0s 4ms/step - loss: 49.8548\n",
            "Epoch 5/120\n",
            "95/95 [==============================] - 0s 4ms/step - loss: 49.4993\n",
            "Epoch 6/120\n",
            "95/95 [==============================] - 0s 4ms/step - loss: 48.5698\n",
            "Epoch 7/120\n",
            "95/95 [==============================] - 0s 4ms/step - loss: 46.1014\n",
            "Epoch 8/120\n",
            "95/95 [==============================] - 0s 4ms/step - loss: 42.0656\n",
            "Epoch 9/120\n",
            "95/95 [==============================] - 0s 4ms/step - loss: 37.2416\n",
            "Epoch 10/120\n",
            "95/95 [==============================] - 0s 4ms/step - loss: 33.2617\n",
            "Epoch 11/120\n",
            "95/95 [==============================] - 0s 4ms/step - loss: 28.7381\n",
            "Epoch 12/120\n",
            "95/95 [==============================] - 0s 4ms/step - loss: 23.7399\n",
            "Epoch 13/120\n",
            "95/95 [==============================] - 0s 4ms/step - loss: 20.9140\n",
            "Epoch 14/120\n",
            "95/95 [==============================] - 0s 3ms/step - loss: 17.6673\n",
            "Epoch 15/120\n",
            "95/95 [==============================] - 0s 4ms/step - loss: 17.0841\n",
            "Epoch 16/120\n",
            "95/95 [==============================] - 0s 3ms/step - loss: 17.1453\n",
            "Epoch 17/120\n",
            "95/95 [==============================] - 0s 3ms/step - loss: 15.1260\n",
            "Epoch 18/120\n",
            "95/95 [==============================] - 0s 4ms/step - loss: 15.4385\n",
            "Epoch 19/120\n",
            "95/95 [==============================] - 0s 3ms/step - loss: 15.1694\n",
            "Epoch 20/120\n",
            "95/95 [==============================] - 0s 3ms/step - loss: 16.0569\n",
            "Epoch 21/120\n",
            "95/95 [==============================] - 0s 4ms/step - loss: 15.5806\n",
            "Epoch 22/120\n",
            "95/95 [==============================] - 0s 3ms/step - loss: 14.4131\n",
            "Epoch 23/120\n",
            "95/95 [==============================] - 0s 3ms/step - loss: 14.7574\n",
            "Epoch 24/120\n",
            "95/95 [==============================] - 0s 4ms/step - loss: 14.9065\n",
            "Epoch 25/120\n",
            "95/95 [==============================] - 0s 3ms/step - loss: 14.3613\n",
            "Epoch 26/120\n",
            "95/95 [==============================] - 0s 3ms/step - loss: 14.7478\n",
            "Epoch 27/120\n",
            "95/95 [==============================] - 0s 4ms/step - loss: 14.7568\n",
            "Epoch 28/120\n",
            "95/95 [==============================] - 0s 3ms/step - loss: 14.3753\n",
            "Epoch 29/120\n",
            "95/95 [==============================] - 0s 3ms/step - loss: 14.8856\n",
            "Epoch 30/120\n",
            "95/95 [==============================] - 0s 4ms/step - loss: 14.7380\n",
            "Epoch 31/120\n",
            "95/95 [==============================] - 0s 4ms/step - loss: 14.5300\n",
            "Epoch 32/120\n",
            "95/95 [==============================] - 0s 4ms/step - loss: 14.3803\n",
            "Epoch 33/120\n",
            "95/95 [==============================] - 0s 4ms/step - loss: 14.7547\n",
            "Epoch 34/120\n",
            "95/95 [==============================] - 0s 3ms/step - loss: 14.2855\n",
            "Epoch 35/120\n",
            "95/95 [==============================] - 0s 4ms/step - loss: 15.2707\n",
            "Epoch 36/120\n",
            "95/95 [==============================] - 0s 4ms/step - loss: 14.4962\n",
            "Epoch 37/120\n",
            "95/95 [==============================] - 0s 3ms/step - loss: 14.1411\n",
            "Epoch 38/120\n",
            "95/95 [==============================] - 0s 3ms/step - loss: 14.7724\n",
            "Epoch 39/120\n",
            "95/95 [==============================] - 0s 4ms/step - loss: 14.7758\n",
            "Epoch 40/120\n",
            "95/95 [==============================] - 0s 3ms/step - loss: 14.5295\n",
            "Epoch 41/120\n",
            "95/95 [==============================] - 0s 3ms/step - loss: 14.5465\n",
            "Epoch 42/120\n",
            "95/95 [==============================] - 0s 4ms/step - loss: 14.6547\n",
            "Epoch 43/120\n",
            "95/95 [==============================] - 0s 3ms/step - loss: 14.4968\n",
            "Epoch 44/120\n",
            "95/95 [==============================] - 0s 4ms/step - loss: 14.6892\n",
            "Epoch 45/120\n",
            "95/95 [==============================] - 0s 4ms/step - loss: 14.2845\n",
            "Epoch 46/120\n",
            "95/95 [==============================] - 0s 3ms/step - loss: 14.2911\n",
            "Epoch 47/120\n",
            "95/95 [==============================] - 0s 3ms/step - loss: 14.2514\n",
            "Epoch 48/120\n",
            "95/95 [==============================] - 0s 4ms/step - loss: 14.4625\n",
            "Epoch 49/120\n",
            "95/95 [==============================] - 0s 3ms/step - loss: 14.2176\n",
            "Epoch 50/120\n",
            "95/95 [==============================] - 0s 3ms/step - loss: 14.2252\n",
            "Epoch 51/120\n",
            "95/95 [==============================] - 0s 4ms/step - loss: 14.8401\n",
            "Epoch 52/120\n",
            "95/95 [==============================] - 0s 3ms/step - loss: 14.0539\n",
            "Epoch 53/120\n",
            "95/95 [==============================] - 0s 3ms/step - loss: 14.4144\n",
            "Epoch 54/120\n",
            "95/95 [==============================] - 0s 4ms/step - loss: 14.3615\n",
            "Epoch 55/120\n",
            "95/95 [==============================] - 0s 3ms/step - loss: 14.6308\n",
            "Epoch 56/120\n",
            "95/95 [==============================] - 0s 3ms/step - loss: 14.4108\n",
            "Epoch 57/120\n",
            "95/95 [==============================] - 0s 4ms/step - loss: 14.4692\n",
            "Epoch 58/120\n",
            "95/95 [==============================] - 0s 3ms/step - loss: 14.0411\n",
            "Epoch 59/120\n",
            "95/95 [==============================] - 0s 3ms/step - loss: 14.4985\n",
            "Epoch 60/120\n",
            "95/95 [==============================] - 0s 4ms/step - loss: 14.2867\n",
            "Epoch 61/120\n",
            "95/95 [==============================] - 0s 4ms/step - loss: 14.6507\n",
            "Epoch 62/120\n",
            "95/95 [==============================] - 0s 3ms/step - loss: 14.6687\n",
            "Epoch 63/120\n",
            "95/95 [==============================] - 0s 4ms/step - loss: 14.2015\n",
            "Epoch 64/120\n",
            "95/95 [==============================] - 0s 3ms/step - loss: 14.8168\n",
            "Epoch 65/120\n",
            "95/95 [==============================] - 0s 3ms/step - loss: 14.4951\n",
            "Epoch 66/120\n",
            "95/95 [==============================] - 0s 4ms/step - loss: 14.5272\n",
            "Epoch 67/120\n",
            "95/95 [==============================] - 0s 4ms/step - loss: 14.0984\n",
            "Epoch 68/120\n",
            "95/95 [==============================] - 0s 4ms/step - loss: 14.7029\n",
            "Epoch 69/120\n",
            "95/95 [==============================] - 0s 4ms/step - loss: 15.2850\n",
            "Epoch 70/120\n",
            "95/95 [==============================] - 0s 4ms/step - loss: 14.2843\n",
            "Epoch 71/120\n",
            "95/95 [==============================] - 0s 4ms/step - loss: 14.1456\n",
            "Epoch 72/120\n",
            "95/95 [==============================] - 0s 3ms/step - loss: 14.4254\n",
            "Epoch 73/120\n",
            "95/95 [==============================] - 0s 3ms/step - loss: 14.8357\n",
            "Epoch 74/120\n",
            "95/95 [==============================] - 0s 4ms/step - loss: 14.1679\n",
            "Epoch 75/120\n",
            "95/95 [==============================] - 0s 3ms/step - loss: 14.2526\n",
            "Epoch 76/120\n",
            "95/95 [==============================] - 0s 4ms/step - loss: 14.5918\n",
            "Epoch 77/120\n",
            "95/95 [==============================] - 0s 4ms/step - loss: 14.5557\n",
            "Epoch 78/120\n",
            "95/95 [==============================] - 0s 3ms/step - loss: 14.5812\n",
            "Epoch 79/120\n",
            "95/95 [==============================] - 0s 3ms/step - loss: 14.4023\n",
            "Epoch 80/120\n",
            "95/95 [==============================] - 0s 4ms/step - loss: 14.2590\n",
            "Epoch 81/120\n",
            "95/95 [==============================] - 0s 3ms/step - loss: 14.5003\n",
            "Epoch 82/120\n",
            "95/95 [==============================] - 0s 4ms/step - loss: 14.1231\n",
            "Epoch 83/120\n",
            "95/95 [==============================] - 0s 4ms/step - loss: 14.1870\n",
            "Epoch 84/120\n",
            "95/95 [==============================] - 0s 4ms/step - loss: 14.2129\n",
            "Epoch 85/120\n",
            "95/95 [==============================] - 0s 4ms/step - loss: 14.5321\n",
            "Epoch 86/120\n",
            "95/95 [==============================] - 0s 4ms/step - loss: 15.2327\n",
            "Epoch 87/120\n",
            "95/95 [==============================] - 0s 4ms/step - loss: 14.3564\n",
            "Epoch 88/120\n",
            "95/95 [==============================] - 0s 4ms/step - loss: 14.2834\n",
            "Epoch 89/120\n",
            "95/95 [==============================] - 0s 4ms/step - loss: 14.3630\n",
            "Epoch 90/120\n",
            "95/95 [==============================] - 0s 3ms/step - loss: 14.9737\n",
            "Epoch 91/120\n",
            "95/95 [==============================] - 0s 4ms/step - loss: 14.9521\n",
            "Epoch 92/120\n",
            "95/95 [==============================] - 0s 4ms/step - loss: 14.8340\n",
            "Epoch 93/120\n",
            "95/95 [==============================] - 0s 3ms/step - loss: 14.5269\n",
            "Epoch 94/120\n",
            "95/95 [==============================] - 0s 4ms/step - loss: 14.0888\n",
            "Epoch 95/120\n",
            "95/95 [==============================] - 0s 4ms/step - loss: 14.1707\n",
            "Epoch 96/120\n",
            "95/95 [==============================] - 0s 4ms/step - loss: 13.9747\n",
            "Epoch 97/120\n",
            "95/95 [==============================] - 0s 4ms/step - loss: 14.4288\n",
            "Epoch 98/120\n",
            "95/95 [==============================] - 0s 3ms/step - loss: 15.2248\n",
            "Epoch 99/120\n",
            "95/95 [==============================] - 0s 4ms/step - loss: 14.5377\n",
            "Epoch 100/120\n",
            "95/95 [==============================] - 0s 4ms/step - loss: 14.2346\n",
            "Epoch 101/120\n",
            "95/95 [==============================] - 0s 4ms/step - loss: 14.3358\n",
            "Epoch 102/120\n",
            "95/95 [==============================] - 0s 4ms/step - loss: 14.1666\n",
            "Epoch 103/120\n",
            "95/95 [==============================] - 0s 4ms/step - loss: 14.0550\n",
            "Epoch 104/120\n",
            "95/95 [==============================] - 0s 3ms/step - loss: 14.1884\n",
            "Epoch 105/120\n",
            "95/95 [==============================] - 0s 4ms/step - loss: 14.5498\n",
            "Epoch 106/120\n",
            "95/95 [==============================] - 0s 4ms/step - loss: 14.1017\n",
            "Epoch 107/120\n",
            "95/95 [==============================] - 0s 3ms/step - loss: 14.7994\n",
            "Epoch 108/120\n",
            "95/95 [==============================] - 0s 4ms/step - loss: 14.5164\n",
            "Epoch 109/120\n",
            "95/95 [==============================] - 0s 4ms/step - loss: 14.1827\n",
            "Epoch 110/120\n",
            "95/95 [==============================] - 0s 4ms/step - loss: 14.1339\n",
            "Epoch 111/120\n",
            "95/95 [==============================] - 0s 4ms/step - loss: 14.2625\n",
            "Epoch 112/120\n",
            "95/95 [==============================] - 0s 4ms/step - loss: 15.1473\n",
            "Epoch 113/120\n",
            "95/95 [==============================] - 0s 4ms/step - loss: 14.4021\n",
            "Epoch 114/120\n",
            "95/95 [==============================] - 0s 4ms/step - loss: 14.1169\n",
            "Epoch 115/120\n",
            "95/95 [==============================] - 0s 4ms/step - loss: 14.1311\n",
            "Epoch 116/120\n",
            "95/95 [==============================] - 0s 3ms/step - loss: 14.1149\n",
            "Epoch 117/120\n",
            "95/95 [==============================] - 0s 4ms/step - loss: 14.0891\n",
            "Epoch 118/120\n",
            "95/95 [==============================] - 0s 4ms/step - loss: 14.3476\n",
            "Epoch 119/120\n",
            "95/95 [==============================] - 0s 4ms/step - loss: 14.6902\n",
            "Epoch 120/120\n",
            "95/95 [==============================] - 0s 4ms/step - loss: 14.7186\n"
          ]
        },
        {
          "output_type": "execute_result",
          "data": {
            "text/plain": [
              "<keras.callbacks.History at 0x7fe565482fa0>"
            ]
          },
          "metadata": {},
          "execution_count": 95
        }
      ]
    },
    {
      "cell_type": "code",
      "source": [
        "Y_pred = model.predict(X_train)\n",
        "\n",
        "plt.figure(figsize=(12, 6))\n",
        "plt.scatter(X_train, Y_train, marker='.')\n",
        "plt.plot(X_train, Y_pred,'.', c='r')"
      ],
      "metadata": {
        "colab": {
          "base_uri": "https://localhost:8080/",
          "height": 410
        },
        "id": "PTDM69DlH2Zi",
        "outputId": "0b9041fe-e59d-4f30-d349-38dd5c053c3e"
      },
      "execution_count": 102,
      "outputs": [
        {
          "output_type": "stream",
          "name": "stdout",
          "text": [
            "95/95 [==============================] - 0s 2ms/step\n"
          ]
        },
        {
          "output_type": "execute_result",
          "data": {
            "text/plain": [
              "[<matplotlib.lines.Line2D at 0x7fe55acc7070>]"
            ]
          },
          "metadata": {},
          "execution_count": 102
        },
        {
          "output_type": "display_data",
          "data": {
            "text/plain": [
              "<Figure size 864x432 with 1 Axes>"
            ],
            "image/png": "[encoded data removed]"
          },
          "metadata": {
            "needs_background": "light"
          }
        }
      ]
    },
    {
      "cell_type": "code",
      "source": [
        "model.evaluate(X_test, Y_test)"
      ],
      "metadata": {
        "colab": {
          "base_uri": "https://localhost:8080/"
        },
        "id": "tpPB73w8JTuj",
        "outputId": "1bce4c5b-b89c-4dc1-dc8a-371e354aee8c"
      },
      "execution_count": 103,
      "outputs": [
        {
          "output_type": "stream",
          "name": "stdout",
          "text": [
            "32/32 [==============================] - 1s 2ms/step - loss: 13.8076\n"
          ]
        },
        {
          "output_type": "execute_result",
          "data": {
            "text/plain": [
              "13.807633399963379"
            ]
          },
          "metadata": {},
          "execution_count": 103
        }
      ]
    }
  ],
  "metadata": {
    "colab": {
      "provenance": []
    },
    "kernelspec": {
      "display_name": "Python 3",
      "name": "python3"
    },
    "language_info": {
      "name": "python"
    }
  },
  "nbformat": 4,
  "nbformat_minor": 0
}